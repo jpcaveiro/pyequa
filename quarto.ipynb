{
  "cells": [
    {
      "cell_type": "raw",
      "metadata": {},
      "source": [
        "---\n",
        "title: pyequa test\n",
        "format: html\n",
        "editor: visual\n",
        "---"
      ],
      "id": "33d50ead"
    },
    {
      "cell_type": "code",
      "metadata": {},
      "source": [
        "import wisdomgraph"
      ],
      "id": "e018f7d6",
      "execution_count": null,
      "outputs": []
    },
    {
      "cell_type": "markdown",
      "metadata": {},
      "source": [
        "You can add options to executable code like this\n"
      ],
      "id": "27704f1e"
    },
    {
      "cell_type": "code",
      "metadata": {},
      "source": [
        "#| echo: false\n",
        "\n",
        "from sympy import Eq, Symbol, Rational\n",
        "\n",
        "#x1,x2,x3,media,variancia = symbols('x1,x2,x3,media,variancia')\n",
        "\n",
        "# Y = beta0 + beta1 x + epsilon\n",
        "\n",
        "\n",
        "b0 = Symbol(\"b0\")\n",
        "b1 = Symbol(\"b1\")\n",
        "\n",
        "sx = Symbol('sx')\n",
        "sy = Symbol('sy')\n",
        "sxx = Symbol('sxx')\n",
        "#syy = Symbol('syy')\n",
        "sxy = Symbol('sxy')\n",
        "\n",
        "nv  = Symbol('nv')\n",
        "\n",
        "\n",
        "# Equações\n",
        "\n",
        "eq_beta0 = Eq(b0, (sy*sxx-sx*sxy)/(nv*sxx-sx*sx))\n",
        "eq_beta1 = Eq(b1, (nv*sxy-sx*sy)/(nv*sxx-sx*sx))\n",
        "\n",
        "\n",
        "scenary_equations = {\n",
        "    ws.SR(eq_beta0,latex_str=\"b0 = (sy*sxx-sx*sxy)/(nv*sxx-sx*sx)\"),\n",
        "    ws.SR(eq_beta1,latex_str=\"b1 = (nv*sxy-sx*sy)/(nv*sxx-sx*sx)\"),\n",
        "}\n",
        "\n",
        "\n",
        "\n",
        "# removido\n",
        "# * \\(\\sum Y_i^2\\) = {syyvalue}\n",
        "\n",
        "\n",
        "scenary_text = r\"\"\"\n",
        "# essay\n",
        "\n",
        "Uma pesquisa com \\(n\\) = {nvvalue} estudantes de ISCED-Cabinda obteve os seguintes resultados sobre a relação linear\n",
        "\n",
        "\\(Y = \\beta_0 + \\beta_1 x + \\epsilon\\)\n",
        "\n",
        "entre horas de estudo por semana \\(x\\) e nota final na disciplina \\(Y\\):\n",
        "\n",
        "* \\(\\beta_0\\) = {b0value}\n",
        "* \\(\\beta_1\\) = {b1value}\n",
        "* \\(n\\) = {nvvalue}\n",
        "* \\(\\sum x_i\\) = {sxvalue}\n",
        "* \\(\\sum Y_i\\) = {syvalue}\n",
        "* \\(\\sum x_i^2\\) = {sxxvalue}\n",
        "* \\(\\sum x_i Y_i\\) = {sxyvalue}\n",
        "\n",
        "\n",
        "# question\n",
        "\n",
        "Determine as incónitas.\n",
        "\n",
        "## answer\n",
        "\n",
        "{answer_steps}\n",
        "\n",
        "\"\"\"\n",
        "\n",
        "\n",
        "\n",
        "\n",
        "answer_template = \"\"\"Sabendo\n",
        "\n",
        "{localinputvars}\n",
        "\n",
        "e usando\n",
        "\n",
        "{solvers}\n",
        "\n",
        "determina-se\n",
        "\n",
        "{localoutputvars}\n",
        "\n",
        "\"\"\""
      ],
      "id": "65aa39a3",
      "execution_count": null,
      "outputs": []
    },
    {
      "cell_type": "code",
      "metadata": {},
      "source": [
        "world = wisdomgraph.Scenario(scenary_equations,scenary_text,answer_template,r=[1,2])"
      ],
      "id": "a839d4f8",
      "execution_count": null,
      "outputs": []
    },
    {
      "cell_type": "code",
      "metadata": {},
      "source": [
        "world.wisdomgraph.nodes['b0b1']"
      ],
      "id": "951dd760",
      "execution_count": null,
      "outputs": []
    },
    {
      "cell_type": "code",
      "metadata": {},
      "source": [
        "world.buildall_exercises(maxvars=6) #dar ao user maxvar variáveis conhecidas"
      ],
      "id": "cfca7194",
      "execution_count": null,
      "outputs": []
    }
  ],
  "metadata": {
    "kernelspec": {
      "display_name": "Python 3",
      "language": "python",
      "name": "python3"
    }
  },
  "nbformat": 4,
  "nbformat_minor": 5
}